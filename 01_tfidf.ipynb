{
 "cells": [
  {
   "cell_type": "code",
   "execution_count": null,
   "id": "abcb7c8f",
   "metadata": {},
   "outputs": [],
   "source": [
    "#default_exp tfidf"
   ]
  },
  {
   "cell_type": "code",
   "execution_count": null,
   "id": "06f618e6",
   "metadata": {},
   "outputs": [],
   "source": [
    "#export\n",
    "from collections import Counter\n",
    "import numpy as np\n",
    "import math\n",
    "from fastcore.test import test_eq\n",
    "from nbdev.showdoc import *"
   ]
  },
  {
   "cell_type": "code",
   "execution_count": null,
   "id": "52dc9d0d",
   "metadata": {},
   "outputs": [
    {
     "data": {
      "text/markdown": [
       "<h4 id=\"get_freq\" class=\"doc_header\"><code>get_freq</code><a href=\"__main__.py#L2\" class=\"source_link\" style=\"float:right\">[source]</a></h4>\n",
       "\n",
       "> <code>get_freq</code>(**`preprocessed_documents`**)\n",
       "\n",
       "Returns list with vocabulary frequencies per document and a vocabalury list"
      ],
      "text/plain": [
       "<IPython.core.display.Markdown object>"
      ]
     },
     "metadata": {},
     "output_type": "display_data"
    }
   ],
   "source": [
    "#export\n",
    "def get_freq(preprocessed_documents):\n",
    "    \n",
    "    \"Returns list with vocabulary frequencies per document and a vocabalury list\"\n",
    "    \n",
    "    document_frequency = []\n",
    "    vocab = []\n",
    "\n",
    "    for doc in preprocessed_documents:\n",
    "        document_frequency.append(Counter(doc))\n",
    "        vocab = vocab + doc\n",
    "    \n",
    "    vocab = list(set(vocab))\n",
    "    return document_frequency, vocab\n",
    "\n",
    "show_doc(get_freq)"
   ]
  },
  {
   "cell_type": "code",
   "execution_count": null,
   "id": "1c65f851",
   "metadata": {},
   "outputs": [
    {
     "data": {
      "text/markdown": [
       "<h4 id=\"form_matrix\" class=\"doc_header\"><code>form_matrix</code><a href=\"__main__.py#L2\" class=\"source_link\" style=\"float:right\">[source]</a></h4>\n",
       "\n",
       "> <code>form_matrix</code>(**`doc_freq`**, **`vocabulary`**)\n",
       "\n",
       "Returns matrix with td-idf vectors."
      ],
      "text/plain": [
       "<IPython.core.display.Markdown object>"
      ]
     },
     "metadata": {},
     "output_type": "display_data"
    }
   ],
   "source": [
    "#export\n",
    "def form_matrix(doc_freq, vocabulary):\n",
    "\n",
    "    \"Returns matrix with td-idf vectors.\"\n",
    "    \n",
    "    M = []\n",
    "    \n",
    "    for doc in doc_freq:\n",
    "        arr = np.zeros(len(vocabulary))\n",
    "\n",
    "        for word in doc.keys():\n",
    "            tf = doc[word] / (sum(doc.values()))\n",
    "            freq = 0\n",
    "            for doc1 in doc_freq:\n",
    "                if word in doc1.keys():\n",
    "                    freq+=1\n",
    "    \n",
    "            idf = math.log(len(doc_freq)/(freq+1))\n",
    "            tfidf = tf * idf\n",
    "            tfidf_arr = np.array([tfidf])\n",
    "            index = vocabulary.index(word) \n",
    "            np.put(arr, index, tfidf_arr)\n",
    "\n",
    "        M.append(arr)\n",
    "    return M\n",
    "\n",
    "show_doc(form_matrix)"
   ]
  },
  {
   "cell_type": "code",
   "execution_count": null,
   "id": "04806d87",
   "metadata": {},
   "outputs": [],
   "source": [
    "#export\n",
    "def get_query_vec(preprocessed_query, vocab, doc_freq):\n",
    "\n",
    "    \"Retun tf-idf vector of input query\"\n",
    "    \n",
    "    \n",
    "    counter = Counter(preprocessed_query)\n",
    "    vector = np.zeros(len(vocab))\n",
    "\n",
    "    for word in preprocessed_query:\n",
    "\n",
    "        tf = counter[word] * sum(counter.values())\n",
    "        freq = 0\n",
    "        for doc in doc_freq:\n",
    "            if word in doc.keys():\n",
    "                freq+=1\n",
    "        idf = math.log(len(doc_freq)/ (freq+1))\n",
    "        tfidf = tf * idf\n",
    "        tfidf_arr = np.array([tfidf])        \n",
    "        if word in vocab:\n",
    "            index = vocab.index(word) \n",
    "            np.put(vector, index, tfidf_arr)\n",
    "    \n",
    "    return vector  "
   ]
  },
  {
   "cell_type": "code",
   "execution_count": null,
   "id": "01e41a3a",
   "metadata": {},
   "outputs": [],
   "source": [
    "#export\n",
    "def get_cos_sim(matrix, vector):\n",
    "    \n",
    "    \"Returns 10 most similar documents based on cosine similarity between documents and query vector\"\n",
    "    \n",
    "    cos_sim = []\n",
    "    for vec in matrix:\n",
    "        cos = np.dot(vec, vector) / (np.linalg.norm(vec) * np.linalg.norm(vector))\n",
    "        cos_sim.append(cos)\n",
    "    \n",
    "    array = np.array(cos_sim)\n",
    "    sort_index = np.argsort(array)[::-1][:10]\n",
    "    return sort_index"
   ]
  },
  {
   "cell_type": "code",
   "execution_count": null,
   "id": "820c0ec2",
   "metadata": {},
   "outputs": [
    {
     "name": "stdout",
     "output_type": "stream",
     "text": [
      "Converted 00_preprocess.ipynb.\n",
      "Converted 01_tfidf.ipynb.\n",
      "Converted index.ipynb.\n"
     ]
    }
   ],
   "source": [
    "from nbdev.export import notebook2script; notebook2script()"
   ]
  }
 ],
 "metadata": {
  "kernelspec": {
   "display_name": "Python 3",
   "language": "python",
   "name": "python3"
  }
 },
 "nbformat": 4,
 "nbformat_minor": 5
}
