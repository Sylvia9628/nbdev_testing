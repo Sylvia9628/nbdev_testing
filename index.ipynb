{
 "cells": [
  {
   "cell_type": "code",
   "execution_count": null,
   "metadata": {},
   "outputs": [],
   "source": [
    "#hide \n",
    "%load_ext autoreload \n",
    "%autoreload 2\n",
    "from nbdev_testing.core import *"
   ]
  },
  {
   "cell_type": "markdown",
   "metadata": {},
   "source": [
    "# nbdev_testing\n",
    "\n",
    "> This is a project to test out nbdev"
   ]
  },
  {
   "cell_type": "markdown",
   "metadata": {},
   "source": [
    "This document explains how to use nbdev_testing"
   ]
  },
  {
   "cell_type": "markdown",
   "metadata": {},
   "source": [
    "## Install"
   ]
  },
  {
   "cell_type": "markdown",
   "metadata": {},
   "source": [
    "`pip install nbdev_testing`"
   ]
  },
  {
   "cell_type": "markdown",
   "metadata": {},
   "source": [
    "## How to use"
   ]
  },
  {
   "cell_type": "markdown",
   "metadata": {},
   "source": [
    "Use the following models to get tdidf vector based on given documents and query"
   ]
  },
  {
   "cell_type": "code",
   "execution_count": null,
   "metadata": {},
   "outputs": [
    {
     "data": {
      "text/plain": [
       "['hello', 'NLP', 'world', '-PRON-', 'fun', 'work', 'bank']"
      ]
     },
     "execution_count": null,
     "metadata": {},
     "output_type": "execute_result"
    }
   ],
   "source": [
    "document_frequency, vocabulary = get_freq([\"Hello world\", \"NLP is fun\", \"We work at the bank\"])\n",
    "vocabulary"
   ]
  },
  {
   "cell_type": "code",
   "execution_count": null,
   "metadata": {},
   "outputs": [
    {
     "data": {
      "text/plain": [
       "[array([0.20273255, 0.        , 0.20273255, 0.        , 0.        ,\n",
       "        0.        , 0.        ]),\n",
       " array([0.        , 0.20273255, 0.        , 0.        , 0.20273255,\n",
       "        0.        , 0.        ]),\n",
       " array([0.        , 0.        , 0.        , 0.13515504, 0.        ,\n",
       "        0.13515504, 0.13515504])]"
      ]
     },
     "execution_count": null,
     "metadata": {},
     "output_type": "execute_result"
    }
   ],
   "source": [
    "matrix = form_matrix(document_frequency, vocabulary)\n",
    "matrix"
   ]
  },
  {
   "cell_type": "code",
   "execution_count": null,
   "metadata": {},
   "outputs": [
    {
     "data": {
      "text/plain": [
       "array([2, 1, 0], dtype=int64)"
      ]
     },
     "execution_count": null,
     "metadata": {},
     "output_type": "execute_result"
    }
   ],
   "source": [
    "preprocessed_query = preprocess(\"They like finance\")\n",
    "vector = get_query_vec(preprocessed_query, vocabulary, document_frequency)\n",
    "sorted_index = get_cos_sim(matrix, vector)\n",
    "sorted_index"
   ]
  }
 ],
 "metadata": {
  "kernelspec": {
   "display_name": "Python 3",
   "language": "python",
   "name": "python3"
  }
 },
 "nbformat": 4,
 "nbformat_minor": 2
}
